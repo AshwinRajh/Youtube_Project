{
 "cells": [
  {
   "cell_type": "code",
   "execution_count": null,
   "metadata": {},
   "outputs": [],
   "source": [
    "from datetime import timedelta\n",
    "\n",
    "def get_video_stats(youtube, channel_id):\n",
    "    video_id = get_video_ids(youtube, channel_id)\n",
    "    video_stat=[]\n",
    "    for video in video_id:\n",
    "        request = youtube.videos().list(\n",
    "        part=\"snippet,contentDetails,statistics\",\n",
    "        id=video\n",
    "        )\n",
    "        response = request.execute()\n",
    "\n",
    "    # Parse the time duration string\n",
    "        time_string = response['items'][0]['contentDetails']['duration']\n",
    "        duration = time_string[2:]  # Remove the \"PT\" prefix\n",
    "        minutes_position = duration.find(\"M\")\n",
    "        seconds_position = duration.find(\"S\")\n",
    "\n",
    "        minutes = int(duration[0:minutes_position]) if minutes_position >= 0 else 0\n",
    "        seconds = int(duration[minutes_position + 1:seconds_position]) if seconds_position >= 0 else 0\n",
    "\n",
    "    # Calculate duration in seconds\n",
    "        result = (minutes * 60) + seconds\n",
    "\n",
    "    # Create a dictionary containing video data\n",
    "        video_data = {\n",
    "            \"video_name\": response['items'][0]['snippet']['title'],\n",
    "            \"Likes\": response['items'][0]['statistics']['likeCount'],\n",
    "            \"Views\": response['items'][0]['statistics']['viewCount'],\n",
    "            \"Total_Count\": response['items'][0]['statistics']['commentCount'],\n",
    "            \"Duration\": result,  # Duration in seconds\n",
    "            \n",
    "            }\n",
    "        video_stat.append(video_data)\n",
    "    return video_stat"
   ]
  },
  {
   "cell_type": "code",
   "execution_count": null,
   "metadata": {},
   "outputs": [],
   "source": []
  }
 ],
 "metadata": {
  "kernelspec": {
   "display_name": "Python 3",
   "language": "python",
   "name": "python3"
  },
  "language_info": {
   "codemirror_mode": {
    "name": "ipython",
    "version": 3
   },
   "file_extension": ".py",
   "mimetype": "text/x-python",
   "name": "python",
   "nbconvert_exporter": "python",
   "pygments_lexer": "ipython3",
   "version": "3.7.6"
  }
 },
 "nbformat": 4,
 "nbformat_minor": 4
}
